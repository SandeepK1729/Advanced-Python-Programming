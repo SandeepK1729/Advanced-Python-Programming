{
 "cells": [
  {
   "cell_type": "code",
   "execution_count": 1,
   "id": "fd353292",
   "metadata": {},
   "outputs": [],
   "source": [
    "import sys\n",
    "# import required modules such as QApplication from PyQt6 widgets\n",
    "from PyQt6.QtWidgets import QApplication, QLabel, QWidget"
   ]
  },
  {
   "cell_type": "code",
   "execution_count": 2,
   "id": "b3bb874f",
   "metadata": {},
   "outputs": [],
   "source": [
    "# create application\n",
    "app = QApplication([])  # parameter can be sys.argv"
   ]
  },
  {
   "cell_type": "code",
   "execution_count": 3,
   "id": "02ba142b",
   "metadata": {},
   "outputs": [],
   "source": [
    "s = \"\"\n",
    "def add(self, c):\n",
    "    self.s += c\n",
    "def show(self):\n",
    "    self.s = eval(self.s)\n",
    "def clear(self):\n",
    "    self.s = \"\"\n"
   ]
  },
  {
   "cell_type": "code",
   "execution_count": null,
   "id": "7ea5bb47",
   "metadata": {},
   "outputs": [],
   "source": [
    "# create application's GUI\n",
    "window = QWidget()\n",
    "window.setWindowTitle(\"Hello, World!\")\n",
    "window.setGeometry(100, 100, 280, 80)\n",
    "\n",
    "msg = QLabel(\"<h1>Hello, world!</h1>\", parent = window)\n",
    "msg.move(60, 15)"
   ]
  },
  {
   "cell_type": "code",
   "execution_count": null,
   "id": "ecb35284",
   "metadata": {},
   "outputs": [],
   "source": [
    "window.show()\n",
    "sys.exit(app.exec())"
   ]
  }
 ],
 "metadata": {
  "kernelspec": {
   "display_name": "Python 3 (ipykernel)",
   "language": "python",
   "name": "python3"
  },
  "language_info": {
   "codemirror_mode": {
    "name": "ipython",
    "version": 3
   },
   "file_extension": ".py",
   "mimetype": "text/x-python",
   "name": "python",
   "nbconvert_exporter": "python",
   "pygments_lexer": "ipython3",
   "version": "3.10.4"
  }
 },
 "nbformat": 4,
 "nbformat_minor": 5
}
